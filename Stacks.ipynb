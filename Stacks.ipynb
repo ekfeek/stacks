{
 "cells": [
  {
   "cell_type": "code",
   "execution_count": 1,
   "id": "07183545-8d2f-43fc-bb38-7bd6fbcb1507",
   "metadata": {},
   "outputs": [],
   "source": [
    "# Using lists as stack\n",
    "s = []\n",
    "s.append('https://www.kaggle.com')\n",
    "s.append('https://www.kaggle.com/competitions')\n",
    "s.append('https://www.kaggle.com/datasets')\n",
    "s.append('https://www.kaggle.com/models')"
   ]
  },
  {
   "cell_type": "code",
   "execution_count": 2,
   "id": "a8d3bafd-1221-4405-bff6-d0d50698e6ec",
   "metadata": {},
   "outputs": [
    {
     "data": {
      "text/plain": [
       "'https://www.kaggle.com/models'"
      ]
     },
     "execution_count": 2,
     "metadata": {},
     "output_type": "execute_result"
    }
   ],
   "source": [
    "s.pop()"
   ]
  },
  {
   "cell_type": "code",
   "execution_count": 3,
   "id": "4828ea2f-7f7f-457e-ace0-d29b6a0826a1",
   "metadata": {},
   "outputs": [
    {
     "data": {
      "text/plain": [
       "['https://www.kaggle.com',\n",
       " 'https://www.kaggle.com/competitions',\n",
       " 'https://www.kaggle.com/datasets']"
      ]
     },
     "execution_count": 3,
     "metadata": {},
     "output_type": "execute_result"
    }
   ],
   "source": [
    "s"
   ]
  },
  {
   "cell_type": "code",
   "execution_count": 4,
   "id": "69147948-faa2-4174-9510-70188cb0ea7a",
   "metadata": {},
   "outputs": [
    {
     "data": {
      "text/plain": [
       "'https://www.kaggle.com/datasets'"
      ]
     },
     "execution_count": 4,
     "metadata": {},
     "output_type": "execute_result"
    }
   ],
   "source": [
    "s.pop()"
   ]
  },
  {
   "cell_type": "code",
   "execution_count": 5,
   "id": "e8e29e7c-b8e0-4a9a-9cec-d1b2c1d06b96",
   "metadata": {},
   "outputs": [
    {
     "data": {
      "text/plain": [
       "'https://www.kaggle.com/competitions'"
      ]
     },
     "execution_count": 5,
     "metadata": {},
     "output_type": "execute_result"
    }
   ],
   "source": [
    "s.pop()"
   ]
  },
  {
   "cell_type": "code",
   "execution_count": 6,
   "id": "a8f4803d-63e6-46a6-af8c-510034be564c",
   "metadata": {},
   "outputs": [
    {
     "data": {
      "text/plain": [
       "'https://www.kaggle.com'"
      ]
     },
     "execution_count": 6,
     "metadata": {},
     "output_type": "execute_result"
    }
   ],
   "source": [
    "s.pop()"
   ]
  },
  {
   "cell_type": "code",
   "execution_count": 7,
   "id": "949373b2-a69d-4924-8823-e097f194e088",
   "metadata": {},
   "outputs": [
    {
     "data": {
      "text/plain": [
       "[]"
      ]
     },
     "execution_count": 7,
     "metadata": {},
     "output_type": "execute_result"
    }
   ],
   "source": [
    "s"
   ]
  },
  {
   "cell_type": "code",
   "execution_count": 8,
   "id": "906d0f80-9567-406d-99b1-48252edad799",
   "metadata": {},
   "outputs": [],
   "source": [
    "#Collections.deque\n",
    "from collections import deque\n",
    "stack = deque()"
   ]
  },
  {
   "cell_type": "code",
   "execution_count": 9,
   "id": "1d451c03-781c-4c55-a695-4b592f5e87bc",
   "metadata": {},
   "outputs": [
    {
     "data": {
      "text/plain": [
       "['__add__',\n",
       " '__class__',\n",
       " '__class_getitem__',\n",
       " '__contains__',\n",
       " '__copy__',\n",
       " '__delattr__',\n",
       " '__delitem__',\n",
       " '__dir__',\n",
       " '__doc__',\n",
       " '__eq__',\n",
       " '__format__',\n",
       " '__ge__',\n",
       " '__getattribute__',\n",
       " '__getitem__',\n",
       " '__getstate__',\n",
       " '__gt__',\n",
       " '__hash__',\n",
       " '__iadd__',\n",
       " '__imul__',\n",
       " '__init__',\n",
       " '__init_subclass__',\n",
       " '__iter__',\n",
       " '__le__',\n",
       " '__len__',\n",
       " '__lt__',\n",
       " '__mul__',\n",
       " '__ne__',\n",
       " '__new__',\n",
       " '__reduce__',\n",
       " '__reduce_ex__',\n",
       " '__repr__',\n",
       " '__reversed__',\n",
       " '__rmul__',\n",
       " '__setattr__',\n",
       " '__setitem__',\n",
       " '__sizeof__',\n",
       " '__str__',\n",
       " '__subclasshook__',\n",
       " 'append',\n",
       " 'appendleft',\n",
       " 'clear',\n",
       " 'copy',\n",
       " 'count',\n",
       " 'extend',\n",
       " 'extendleft',\n",
       " 'index',\n",
       " 'insert',\n",
       " 'maxlen',\n",
       " 'pop',\n",
       " 'popleft',\n",
       " 'remove',\n",
       " 'reverse',\n",
       " 'rotate']"
      ]
     },
     "execution_count": 9,
     "metadata": {},
     "output_type": "execute_result"
    }
   ],
   "source": [
    "dir(stack)"
   ]
  },
  {
   "cell_type": "code",
   "execution_count": 11,
   "id": "b0823a23-ca57-4153-8027-850dd7e7cf2d",
   "metadata": {},
   "outputs": [],
   "source": [
    "stack.append('https://www.kaggle.com')"
   ]
  },
  {
   "cell_type": "code",
   "execution_count": 14,
   "id": "01cbdf2f-f39b-4820-b20a-779509184e4d",
   "metadata": {},
   "outputs": [
    {
     "data": {
      "text/plain": [
       "deque(['https://www.kaggle.com',\n",
       "       'https://www.kaggle.com/competitions',\n",
       "       'https://www.kaggle.com/datasets',\n",
       "       'https://www.kaggle.com/models'])"
      ]
     },
     "execution_count": 14,
     "metadata": {},
     "output_type": "execute_result"
    }
   ],
   "source": [
    "stack"
   ]
  },
  {
   "cell_type": "code",
   "execution_count": 13,
   "id": "aa015ba9-958c-46c4-86f2-ba5f8f2f81a8",
   "metadata": {},
   "outputs": [],
   "source": [
    "stack.append('https://www.kaggle.com/competitions')\n",
    "stack.append('https://www.kaggle.com/datasets')\n",
    "stack.append('https://www.kaggle.com/models')"
   ]
  },
  {
   "cell_type": "code",
   "execution_count": 15,
   "id": "5f5deb8e-83da-473e-bc51-33eff4671846",
   "metadata": {},
   "outputs": [
    {
     "data": {
      "text/plain": [
       "'https://www.kaggle.com/models'"
      ]
     },
     "execution_count": 15,
     "metadata": {},
     "output_type": "execute_result"
    }
   ],
   "source": [
    "stack.pop()"
   ]
  },
  {
   "cell_type": "code",
   "execution_count": null,
   "id": "9ba1effc-25b1-4032-947b-56f366457d85",
   "metadata": {},
   "outputs": [],
   "source": []
  },
  {
   "cell_type": "code",
   "execution_count": 24,
   "id": "12a6d7d7-1621-4684-a230-02e78754a996",
   "metadata": {},
   "outputs": [],
   "source": [
    "class stack:\n",
    "    def __init__(self):\n",
    "        self.container = deque\n",
    "\n",
    "    def push(self,val):\n",
    "        self.container.append(val)\n",
    "\n",
    "    def pop(self):\n",
    "        return self.container.pop()\n",
    "\n",
    "    def peek(self):\n",
    "        return self.container[-1]\n",
    "\n",
    "    def is_empty(self):\n",
    "        return len(self.container)==0\n",
    "\n",
    "    def size(self):\n",
    "        return len(self.container)\n",
    "        "
   ]
  },
  {
   "cell_type": "code",
   "execution_count": 26,
   "id": "ed8cbd88-0ef2-4c69-b3cb-daa1c5dd730f",
   "metadata": {},
   "outputs": [
    {
     "ename": "TypeError",
     "evalue": "descriptor 'append' for 'collections.deque' objects doesn't apply to a 'int' object",
     "output_type": "error",
     "traceback": [
      "\u001b[0;31m---------------------------------------------------------------------------\u001b[0m",
      "\u001b[0;31mTypeError\u001b[0m                                 Traceback (most recent call last)",
      "Cell \u001b[0;32mIn[26], line 2\u001b[0m\n\u001b[1;32m      1\u001b[0m s \u001b[38;5;241m=\u001b[39m stack()\n\u001b[0;32m----> 2\u001b[0m s\u001b[38;5;241m.\u001b[39mpush(\u001b[38;5;241m5\u001b[39m)\n",
      "Cell \u001b[0;32mIn[24], line 6\u001b[0m, in \u001b[0;36mstack.push\u001b[0;34m(self, val)\u001b[0m\n\u001b[1;32m      5\u001b[0m \u001b[38;5;28;01mdef\u001b[39;00m \u001b[38;5;21mpush\u001b[39m(\u001b[38;5;28mself\u001b[39m,val):\n\u001b[0;32m----> 6\u001b[0m     \u001b[38;5;28mself\u001b[39m\u001b[38;5;241m.\u001b[39mcontainer\u001b[38;5;241m.\u001b[39mappend(val)\n",
      "\u001b[0;31mTypeError\u001b[0m: descriptor 'append' for 'collections.deque' objects doesn't apply to a 'int' object"
     ]
    }
   ],
   "source": [
    "s = stack()\n",
    "s.push(5)"
   ]
  },
  {
   "cell_type": "code",
   "execution_count": null,
   "id": "207394c3-bc5f-4942-b2a7-7b75f772941b",
   "metadata": {},
   "outputs": [],
   "source": []
  }
 ],
 "metadata": {
  "kernelspec": {
   "display_name": "Python 3 (ipykernel)",
   "language": "python",
   "name": "python3"
  },
  "language_info": {
   "codemirror_mode": {
    "name": "ipython",
    "version": 3
   },
   "file_extension": ".py",
   "mimetype": "text/x-python",
   "name": "python",
   "nbconvert_exporter": "python",
   "pygments_lexer": "ipython3",
   "version": "3.11.7"
  }
 },
 "nbformat": 4,
 "nbformat_minor": 5
}
